{
 "cells": [
  {
   "cell_type": "markdown",
   "id": "f78f8fdf",
   "metadata": {},
   "source": [
    "We are making a **student success predictor**"
   ]
  },
  {
   "cell_type": "code",
   "execution_count": 4,
   "id": "cf1d1219",
   "metadata": {},
   "outputs": [
    {
     "name": "stdout",
     "output_type": "stream",
     "text": [
      "sample rows\n",
      "   StudyHours  Attendance  PastScore Internet  SleepHours Passed\n",
      "0           2          60         40      Yes           5     No\n",
      "1           5          80         60       No           6    Yes\n",
      "2           8          90         75      Yes           8    Yes\n",
      "3           3          70         70      Yes           7    Yes\n",
      "4           7          85         50       No           4     No\n",
      "Dataset Shape\n",
      "Rows: 23, Columns: 6\n",
      "dataset info\n",
      "<class 'pandas.core.frame.DataFrame'>\n",
      "RangeIndex: 23 entries, 0 to 22\n",
      "Data columns (total 6 columns):\n",
      " #   Column      Non-Null Count  Dtype \n",
      "---  ------      --------------  ----- \n",
      " 0   StudyHours  23 non-null     int64 \n",
      " 1   Attendance  23 non-null     int64 \n",
      " 2   PastScore   23 non-null     int64 \n",
      " 3   Internet    23 non-null     object\n",
      " 4   SleepHours  23 non-null     int64 \n",
      " 5   Passed      23 non-null     object\n",
      "dtypes: int64(4), object(2)\n",
      "memory usage: 1.2+ KB\n",
      "None\n",
      "summary statistics\n",
      "        StudyHours  Attendance  PastScore Internet  SleepHours Passed\n",
      "count    23.000000   23.000000  23.000000       23   23.000000     23\n",
      "unique         NaN         NaN        NaN        2         NaN      2\n",
      "top            NaN         NaN        NaN      Yes         NaN    Yes\n",
      "freq           NaN         NaN        NaN       16         NaN     14\n",
      "mean      5.434783   74.739130  63.565217      NaN    6.217391    NaN\n",
      "std       2.744020   15.256049  20.373392      NaN    1.704447    NaN\n",
      "min       1.000000   48.000000  25.000000      NaN    3.000000    NaN\n",
      "25%       3.500000   62.500000  52.500000      NaN    5.000000    NaN\n",
      "50%       5.000000   75.000000  69.000000      NaN    6.000000    NaN\n",
      "75%       7.500000   87.500000  77.000000      NaN    7.000000    NaN\n",
      "max      10.000000   99.000000  95.000000      NaN   10.000000    NaN\n",
      "missing values\n",
      "StudyHours    0\n",
      "Attendance    0\n",
      "PastScore     0\n",
      "Internet      0\n",
      "SleepHours    0\n",
      "Passed        0\n",
      "dtype: int64\n"
     ]
    }
   ],
   "source": [
    "import pandas as pd\n",
    "df = pd.read_csv('student_success_dataset.csv')\n",
    "\n",
    "print(\"sample rows\")\n",
    "print(df.head())\n",
    "\n",
    "print(\"Dataset Shape\")\n",
    "print(f\"Rows: {df.shape[0]}, Columns: {df.shape[1]}\")\n",
    "\n",
    "print(\"dataset info\")\n",
    "print(df.info())\n",
    "\n",
    "print(\"summary statistics\")\n",
    "print(df.describe(include='all'))\n",
    "\n",
    "print(\"missing values\")\n",
    "print(df.isnull().sum())\n"
   ]
  },
  {
   "cell_type": "code",
   "execution_count": 8,
   "id": "ac37df54",
   "metadata": {},
   "outputs": [
    {
     "name": "stdout",
     "output_type": "stream",
     "text": [
      "missing value in each column\n",
      "StudyHours    0\n",
      "Attendance    0\n",
      "PastScore     0\n",
      "Internet      0\n",
      "SleepHours    0\n",
      "Passed        0\n",
      "dtype: int64\n",
      "after encoding categorical variables\n",
      "   StudyHours  Attendance  PastScore  Internet  SleepHours  Passed\n",
      "0           2          60         40         1           5       0\n",
      "1           5          80         60         0           6       1\n",
      "2           8          90         75         1           8       1\n",
      "3           3          70         70         1           7       1\n",
      "4           7          85         50         0           4       0\n",
      "Data-types after cleaning\n",
      "StudyHours    int64\n",
      "Attendance    int64\n",
      "PastScore     int64\n",
      "Internet      int64\n",
      "SleepHours    int64\n",
      "Passed        int64\n",
      "dtype: object\n"
     ]
    }
   ],
   "source": [
    "import pandas as pd\n",
    "from sklearn.preprocessing import LabelEncoder\n",
    "\n",
    "df=pd.read_csv('student_success_dataset.csv')\n",
    "print(\"missing value in each column\")\n",
    "print(df.isnull().sum())\n",
    "\n",
    "le=LabelEncoder()\n",
    "df['Internet']=le.fit_transform(df['Internet'])\n",
    "df['Passed']=le.fit_transform(df['Passed'])\n",
    "\n",
    "print(\"after encoding categorical variables\")\n",
    "print(df.head())\n",
    "\n",
    "print(\"Data-types after cleaning\")\n",
    "print(df.dtypes)"
   ]
  },
  {
   "cell_type": "code",
   "execution_count": 12,
   "id": "e56c023c",
   "metadata": {},
   "outputs": [
    {
     "name": "stdout",
     "output_type": "stream",
     "text": [
      "Classification report\n",
      "              precision    recall  f1-score   support\n",
      "\n",
      "           0       1.00      0.67      0.80         3\n",
      "           1       0.67      1.00      0.80         2\n",
      "\n",
      "    accuracy                           0.80         5\n",
      "   macro avg       0.83      0.83      0.80         5\n",
      "weighted avg       0.87      0.80      0.80         5\n",
      "\n"
     ]
    },
    {
     "data": {
      "image/png": "[encoded data removed]",
      "text/plain": [
       "<Figure size 600x400 with 2 Axes>"
      ]
     },
     "metadata": {},
     "output_type": "display_data"
    },
    {
     "name": "stdout",
     "output_type": "stream",
     "text": [
      "____Predict Your Result____\n",
      "The student is predicted to: Not Passed\n"
     ]
    },
    {
     "name": "stderr",
     "output_type": "stream",
     "text": [
      "C:\\Users\\more6\\AppData\\Roaming\\Python\\Python313\\site-packages\\sklearn\\utils\\validation.py:2749: UserWarning: X does not have valid feature names, but LogisticRegression was fitted with feature names\n",
      "  warnings.warn(\n"
     ]
    }
   ],
   "source": [
    "import pandas as pd\n",
    "import numpy as np\n",
    "from sklearn.preprocessing import StandardScaler, LabelEncoder\n",
    "from sklearn.model_selection import train_test_split\n",
    "from sklearn.linear_model import LogisticRegression\n",
    "from sklearn.metrics import classification_report, confusion_matrix\n",
    "import matplotlib.pyplot as plt\n",
    "import seaborn as sns\n",
    "\n",
    "# Load data\n",
    "df = pd.read_csv('student_success_dataset.csv')\n",
    "\n",
    "# Encode categorical variables\n",
    "le = LabelEncoder()\n",
    "df['Internet'] = le.fit_transform(df['Internet'])\n",
    "df['Passed'] = le.fit_transform(df['Passed'])\n",
    "\n",
    "# Features and target\n",
    "features = ['StudyHours', 'Attendance', 'PastScore', 'Internet', 'SleepHours']\n",
    "target = 'Passed'\n",
    "\n",
    "# Scale features\n",
    "scaler = StandardScaler()\n",
    "df_scaled = df.copy()\n",
    "df_scaled[features] = scaler.fit_transform(df[features])\n",
    "\n",
    "X = df_scaled[features]\n",
    "y = df_scaled[target]\n",
    "\n",
    "# Split data\n",
    "X_train, X_test, y_train, y_test = train_test_split(X, y, test_size=0.2, random_state=42)\n",
    "\n",
    "# Train model\n",
    "model = LogisticRegression()\n",
    "model.fit(X_train, y_train)\n",
    "\n",
    "# Predict and evaluate\n",
    "y_pred = model.predict(X_test)\n",
    "\n",
    "print(\"Classification report\")\n",
    "print(classification_report(y_test, y_pred))\n",
    "\n",
    "conf_matrix = confusion_matrix(y_test, y_pred)\n",
    "plt.figure(figsize=(6, 4))\n",
    "sns.heatmap(conf_matrix, annot=True, fmt='d', cmap='Blues', xticklabels=['Not Passed', 'Passed'], yticklabels=['Not Passed', 'Passed'])\n",
    "plt.xlabel('Predicted')\n",
    "plt.ylabel('Actual')\n",
    "plt.title('Confusion Matrix')\n",
    "plt.show()\n",
    "\n",
    "print(\"____Predict Your Result____\")\n",
    "try:\n",
    "    study_hours = float(input(\"Enter Study Hours: \"))\n",
    "    attendance = float(input(\"Enter Attendance Percentage: \"))\n",
    "    past_score = float(input(\"Enter Past Score: \"))\n",
    "    internet = input(\"Has Internet? (yes/no): \").strip().lower()\n",
    "    sleep_hours = float(input(\"Enter Sleep Hours: \"))\n",
    "\n",
    "    # Encode Internet input\n",
    "    internet_encoded = 1 if internet in ['yes', 'y', '1', 'true'] else 0\n",
    "\n",
    "    user_input_df = pd.DataFrame({\n",
    "        'StudyHours': [study_hours],\n",
    "        'Attendance': [attendance],\n",
    "        'PastScore': [past_score],\n",
    "        'Internet': [internet_encoded],\n",
    "        'SleepHours': [sleep_hours]\n",
    "    })\n",
    "\n",
    "    user_input_scaled = scaler.transform(user_input_df)\n",
    "    prediction = model.predict(user_input_scaled)\n",
    "\n",
    "    result = \"Passed\" if prediction[0] == 1 else \"Not Passed\"\n",
    "    print(f\"The student is predicted to: {result}\")\n",
    "\n",
    "except ValueError:\n",
    "    print(\"Invalid input. Please enter numeric values.\")"
   ]
  },
  {
   "cell_type": "code",
   "execution_count": null,
   "id": "668aff00",
   "metadata": {},
   "outputs": [],
   "source": []
  }
 ],
 "metadata": {
  "kernelspec": {
   "display_name": "Python 3",
   "language": "python",
   "name": "python3"
  },
  "language_info": {
   "codemirror_mode": {
    "name": "ipython",
    "version": 3
   },
   "file_extension": ".py",
   "mimetype": "text/x-python",
   "name": "python",
   "nbconvert_exporter": "python",
   "pygments_lexer": "ipython3",
   "version": "3.13.5"
  }
 },
 "nbformat": 4,
 "nbformat_minor": 5
}
